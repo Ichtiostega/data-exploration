{
  "cells": [
    {
      "cell_type": "code",
      "execution_count": null,
      "metadata": {
        "colab": {
          "base_uri": "https://localhost:8080/"
        },
        "id": "PTDinM8WvSoy",
        "outputId": "aa351596-3cc4-4638-cccc-d0c3797ea95e"
      },
      "outputs": [],
      "source": [
        "%pip install opendatasets\n",
        "%pip install pandas\n",
        "import opendatasets as od\n",
        "import pandas as pd"
      ]
    },
    {
      "cell_type": "markdown",
      "metadata": {},
      "source": [
        "TODO:\n",
        "- film ranking\n",
        "- filter actors by number of films they are in\n",
        "- separate df for actors"
      ]
    },
    {
      "cell_type": "code",
      "execution_count": null,
      "metadata": {
        "colab": {
          "base_uri": "https://localhost:8080/"
        },
        "id": "4IddmVJqye0u",
        "outputId": "88f12ce4-3603-405c-d022-b52dd4f38b46"
      },
      "outputs": [],
      "source": [
        "od.download(\"https://www.kaggle.com/saikrishnadupp/top3000-imdb-indian-movies\")\n",
        "bollywood = pd.read_csv('top3000-imdb-indian-movies/Top3000_imdb_indian_movies.csv')"
      ]
    },
    {
      "cell_type": "code",
      "execution_count": null,
      "metadata": {
        "colab": {
          "base_uri": "https://localhost:8080/"
        },
        "id": "n9b4AK_1HD5k",
        "outputId": "bb9ace0e-1fe6-4bb9-e7d1-cbf57b0dfcf6"
      },
      "outputs": [],
      "source": [
        "bollywood"
      ]
    },
    {
      "cell_type": "markdown",
      "metadata": {},
      "source": [
        "DATA PREPROCESSING"
      ]
    },
    {
      "cell_type": "code",
      "execution_count": null,
      "metadata": {
        "id": "Fsez-d5rI9SH"
      },
      "outputs": [],
      "source": [
        "bollywood.dropna(subset=['Crew_dir'], inplace=True)\n",
        "bollywood.drop(columns=['Date_of_Release'], inplace=True)\n",
        "bollywood.info()"
      ]
    },
    {
      "cell_type": "code",
      "execution_count": null,
      "metadata": {
        "colab": {
          "base_uri": "https://localhost:8080/",
          "height": 414
        },
        "id": "5iVr7lh4KNn-",
        "outputId": "eb18d3ea-5c83-4c18-ac08-5d530621d31a"
      },
      "outputs": [],
      "source": [
        "bollywood.groupby(['Title']).size().reset_index(name='counts').query('counts > 1') #Probably remakes"
      ]
    },
    {
      "cell_type": "code",
      "execution_count": null,
      "metadata": {},
      "outputs": [],
      "source": [
        "bollywood.describe()"
      ]
    },
    {
      "cell_type": "code",
      "execution_count": null,
      "metadata": {
        "colab": {
          "base_uri": "https://localhost:8080/",
          "height": 445
        },
        "id": "2giW8KtAyI-i",
        "outputId": "a6a0514e-c198-444d-f486-9f8f87de6d2a"
      },
      "outputs": [],
      "source": [
        "#JA DZIAŁAM TUTEJ\n",
        "def find_anomalies(col, dataset, sgm_num = 3):\n",
        "    col_mean = dataset[col].mean()\n",
        "    col_std = dataset[col].std()\n",
        "    col_min = col_mean - sgm_num * col_std\n",
        "    col_max = col_mean + sgm_num * col_std\n",
        "    tmp_df = dataset.copy(deep=True)\n",
        "    tmp_df['col_min'] = col_min\n",
        "    tmp_df['col_max'] = col_max\n",
        "    tmp_df = tmp_df.query('' + col + ' > col_max | ' + col + ' < col_min')\n",
        "    tmp_df = tmp_df.drop(columns=['col_min', 'col_max'])\n",
        "    return tmp_df\n",
        "\n",
        "anomalies_votes = find_anomalies('Votes', bollywood)\n",
        "# anomalies_votes\n",
        "anomalies_rating = find_anomalies('ImDBRating', bollywood, 2.4)\n",
        "anomalies_rating.describe()\n",
        "\n"
      ]
    },
    {
      "cell_type": "code",
      "execution_count": null,
      "metadata": {},
      "outputs": [],
      "source": [
        "# A JA TUTEJ\n",
        "def split_actors(df_o):\n",
        "    df = df_o.copy(deep=True)\n",
        "    actors =  df['Cast_stars']\n",
        "    df['Cast_stars'] = actors.map(lambda x: x.split(', '))\n",
        "    df = df.explode('Cast_stars')\n",
        "    return df\n",
        "bollywood_actors = split_actors(bollywood)\n",
        "def calc_weighted_rating(row, mean_rate, min_votes):\n",
        "    mv = row['Votes'] + min_votes\n",
        "    return (row['Votes'] / mv) * row['ImDBRating'] + (min_votes / mv) * mean_rate\n",
        "votes_min = 10000\n",
        "bollywood_actors_top = bollywood_actors.query('Votes > ' + str(votes_min)).copy()\n",
        "bollywood_actors_top['weighted_rating'] = bollywood_actors_top.apply(lambda row: calc_weighted_rating(row, bollywood_actors_top['ImDBRating'].mean(), votes_min), axis=1)\n",
        "bollywood_actors_top.groupby(['Cast_stars']).mean().drop(columns=['Age_of_content']).sort_values(by=['weighted_rating'], ascending=False)"
      ]
    }
  ],
  "metadata": {
    "colab": {
      "collapsed_sections": [],
      "name": "eksploracja_bollywood.ipynb",
      "provenance": []
    },
    "kernelspec": {
      "display_name": "Python 3",
      "name": "python3"
    },
    "language_info": {
      "codemirror_mode": {
        "name": "ipython",
        "version": 3
      },
      "file_extension": ".py",
      "mimetype": "text/x-python",
      "name": "python",
      "nbconvert_exporter": "python",
      "pygments_lexer": "ipython3",
      "version": "3.9.9"
    }
  },
  "nbformat": 4,
  "nbformat_minor": 0
}
